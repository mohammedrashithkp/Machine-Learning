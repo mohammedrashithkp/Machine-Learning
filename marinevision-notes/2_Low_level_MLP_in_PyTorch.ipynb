{
  "nbformat": 4,
  "nbformat_minor": 0,
  "metadata": {
    "celltoolbar": "Create Assignment",
    "kernelspec": {
      "display_name": "Python 3",
      "language": "python",
      "name": "python3"
    },
    "language_info": {
      "codemirror_mode": {
        "name": "ipython",
        "version": 3
      },
      "file_extension": ".py",
      "mimetype": "text/x-python",
      "name": "python",
      "nbconvert_exporter": "python",
      "pygments_lexer": "ipython3",
      "version": "3.6.8"
    },
    "latex_envs": {
      "LaTeX_envs_menu_present": true,
      "autoclose": false,
      "autocomplete": false,
      "bibliofile": "biblio.bib",
      "cite_by": "apalike",
      "current_citInitial": 1,
      "eqLabelWithNumbers": true,
      "eqNumInitial": 1,
      "hotkeys": {
        "equation": "Ctrl-E",
        "itemize": "Ctrl-I"
      },
      "labels_anchors": false,
      "latex_user_defs": false,
      "report_style_numbering": false,
      "user_envs_cfg": false
    },
    "colab": {
      "provenance": [],
      "include_colab_link": true
    }
  },
  "cells": [
    {
      "cell_type": "markdown",
      "metadata": {
        "id": "view-in-github",
        "colab_type": "text"
      },
      "source": [
        "<a href=\"https://colab.research.google.com/github/mohammedrashithkp/Machine-Learning/blob/main/TP_01_Low_level_MLP_in_PyTorch.ipynb\" target=\"_parent\"><img src=\"https://colab.research.google.com/assets/colab-badge.svg\" alt=\"Open In Colab\"/></a>"
      ]
    },
    {
      "cell_type": "markdown",
      "metadata": {
        "nbgrader": {
          "grade": false,
          "grade_id": "cell-1a05789b633b5f06",
          "locked": true,
          "schema_version": 1,
          "solution": false
        },
        "id": "baZyx5ZJQG5S"
      },
      "source": [
        "# Multilayer Perceptron in PyTorch\n",
        "\n",
        "## Introduction\n",
        "\n",
        "### Goal\n",
        "Learn the basics of PyTorch (PT) by working on an artificial classification problem.\n",
        "\n",
        "### Plan\n",
        "In this tutorial we will create a set of synthetic data that we will use as an example problem.\n",
        "Then we will create a MLP model and learn its parameters from the data. Finally we will visualize the different learning measures and the parameters of the model.\n",
        "\n",
        "In a second part we will modify our data and adapt the hyper-parameters (e.g. number of hidden neurons) of our model to allow better classification.\n",
        "\n",
        "In the next part we will use the basic functions of PT to understand our process and how PT works. But we will also mention the high level features and aids of PT that facilitate our tasks.\n",
        "\n",
        "\n",
        "### Usage\n",
        "\n",
        " * Respond to exercices in the next cells.\n",
        " * Write your code in between the lines:\n",
        "\n",
        "```\n",
        "### BEGIN SOLUTION\n",
        "\n",
        "\n",
        "### END SOLUTION\n",
        "```\n",
        "\n",
        " * You will provide this same notebook completed for assessment.\n",
        "\n",
        "### Requirements\n",
        "\n",
        "Python >=3.5\n",
        "\n",
        "Modules python:\n",
        "- pytorch >=1.0\n",
        "- numpy\n",
        "- matplotlib\n",
        "\n",
        "### Evaluation considerations\n",
        "- We take into account the correctness of the solutions but also their generality and quality of the code\n",
        "- Comment and discuss on the results of all your exercises (in a cell immediately after the results). You may also state the difficulties encountered, lessons learned and your understanding of the problem and solution\n",
        "- Clean-up your code before submission, do not leave unnecessary code attempts, or if you deem it important, leave them in a way that it is easily understood and with comments/discussion\n",
        "- We also value the originality of the solutions, don't hesitate in performing unrequested additional tasks in relation to the exercises\n",
        "- Non-advanced exercises will account for approx. 14/20 of the grade. Advanced exercises will contribute to the remaining score and may compensate for errors in the non-advanced ones\n",
        "- You may receive help from colleagues on the non-advanced questions, but you must state who has helped you. Approximately 1/20 of the grade is assigned to those that help most."
      ]
    },
    {
      "cell_type": "code",
      "metadata": {
        "nbgrader": {
          "grade": false,
          "grade_id": "cell-18dc5524750a8d0f",
          "locked": true,
          "schema_version": 1,
          "solution": false
        },
        "id": "1eVszkXOQG5a"
      },
      "source": [
        "#@title\n",
        "import torch\n",
        "import numpy as np\n",
        "import matplotlib.pyplot as plt\n",
        "import matplotlib.animation as animation\n",
        "from IPython.display import HTML"
      ],
      "execution_count": null,
      "outputs": []
    },
    {
      "cell_type": "markdown",
      "source": [
        "## 0. With a little help from my friends\n",
        "\n",
        "Write in the following cell the colleagues (if any) that have helped you with this lab assignment (comma separated if more than one and don't state more than 2)."
      ],
      "metadata": {
        "id": "WHF8xURJ0592"
      }
    },
    {
      "cell_type": "code",
      "source": [
        "#@title\n"
      ],
      "metadata": {
        "id": "8zbrUV1k1O2w"
      },
      "execution_count": null,
      "outputs": []
    },
    {
      "cell_type": "markdown",
      "metadata": {
        "nbgrader": {
          "grade": false,
          "grade_id": "cell-a530b592841eaa14",
          "locked": true,
          "schema_version": 1,
          "solution": false
        },
        "id": "Hl-Dp2HeQG5b"
      },
      "source": [
        "## 1. Data generation\n",
        "\n",
        "In this part, we will generate a data set of 1000 points which is not linearly separable.\n",
        "\n",
        "#### Create the artificial data sets\n"
      ]
    },
    {
      "cell_type": "markdown",
      "source": [
        "\n",
        "### Exercise 1\n",
        "\n",
        "Create 1000 points of 2 dimensions $(x_0, x_1)$ with their coordinates between 0 et 1 $x_0, x_1 \\in [-1, 1)$.\n",
        "\n"
      ],
      "metadata": {
        "id": "DQhMekl-yVK_"
      }
    },
    {
      "cell_type": "code",
      "source": [
        "#@title\n",
        "### BEGIN SOLUTION\n",
        "### END SOLUTION"
      ],
      "metadata": {
        "id": "i-zDViPN0qSx"
      },
      "execution_count": null,
      "outputs": []
    },
    {
      "cell_type": "markdown",
      "source": [
        "\n",
        "### Exercise 2\n",
        "\n",
        "Assign to each point a binary class $y$ (0 ou 1) following the condition:\n",
        "$$\n",
        "y = \\begin{cases}\n",
        "1 &\\text{if $x_0 > -0.4$ et $x_1 > -0.3$}\\\\\n",
        "0 &\\text{else}\n",
        "\\end{cases}\n",
        "$$\n"
      ],
      "metadata": {
        "id": "HRTz8o58yXxL"
      }
    },
    {
      "cell_type": "code",
      "source": [
        "#@title\n",
        "### BEGIN SOLUTION\n",
        "### END SOLUTION"
      ],
      "metadata": {
        "id": "Enbr04ve0quQ"
      },
      "execution_count": null,
      "outputs": []
    },
    {
      "cell_type": "markdown",
      "source": [
        "\n",
        "### Exercise 3\n",
        "\n",
        "Create a matrix of data `data` with shape `(1000, 3)` with a point per row, the two first columns contain the points coordinates $(x_0, x_1)$ the last column contains the class $y$.\n"
      ],
      "metadata": {
        "id": "mtd_3ryAyZve"
      }
    },
    {
      "cell_type": "code",
      "source": [
        "#@title\n",
        "### BEGIN SOLUTION\n",
        "### END SOLUTION"
      ],
      "metadata": {
        "id": "YB52NrlY0rKB"
      },
      "execution_count": null,
      "outputs": []
    },
    {
      "cell_type": "markdown",
      "source": [
        "\n",
        "### Exercise 4\n",
        "\n",
        "Split the data into 3 sets (on matrix for each): 800 points for `train`, 100 points for `valid` and 100 for `test`\n"
      ],
      "metadata": {
        "id": "anzo4rKYybtj"
      }
    },
    {
      "cell_type": "code",
      "source": [
        "#@title\n",
        "### BEGIN SOLUTION\n",
        "### END SOLUTION"
      ],
      "metadata": {
        "id": "2BkA4tt90rtZ"
      },
      "execution_count": null,
      "outputs": []
    },
    {
      "cell_type": "markdown",
      "source": [
        "### Exercise 5\n",
        "\n",
        "Visualise the data using a scatter plot (`plt.scatter`).\n",
        "\n",
        "\n",
        "We expect to find something similar to this:\n",
        "\n",
        "![image.png](data:image/png;base64,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)"
      ],
      "metadata": {
        "id": "5EqIDnEcydEg"
      }
    },
    {
      "cell_type": "code",
      "metadata": {
        "nbgrader": {
          "grade": false,
          "grade_id": "create_data",
          "locked": false,
          "schema_version": 1,
          "solution": true
        },
        "id": "A0UiWGoUQG5c",
        "colab": {
          "base_uri": "https://localhost:8080/",
          "height": 283
        },
        "outputId": "5fc6978c-5427-4151-d806-8b8906d4d9a7"
      },
      "source": [
        "#@title\n",
        "### BEGIN SOLUTION\n",
        "\n",
        "\n",
        "\n",
        "\n",
        "\n",
        "\n",
        "\n",
        "\n",
        "\n",
        "### END SOLUTION"
      ],
      "execution_count": null,
      "outputs": [
        {
          "output_type": "execute_result",
          "data": {
            "text/plain": [
              "<matplotlib.collections.PathCollection at 0x7f456ffa0310>"
            ]
          },
          "metadata": {},
          "execution_count": 13
        },
        {
          "output_type": "display_data",
          "data": {
            "text/plain": [
              "<Figure size 432x288 with 1 Axes>"
            ],
            "image/png": "[encoded data removed]"
          },
          "metadata": {
            "needs_background": "light"
          }
        }
      ]
    },
    {
      "cell_type": "markdown",
      "metadata": {
        "id": "lNfHChLIQG5c"
      },
      "source": [
        "**Run the following cell to make sure you have done the previous exercises correctly.**"
      ]
    },
    {
      "cell_type": "code",
      "metadata": {
        "nbgrader": {
          "grade": true,
          "grade_id": "create_data_tests",
          "locked": true,
          "points": 1,
          "schema_version": 1,
          "solution": false
        },
        "id": "8G9UN-udQG5c",
        "colab": {
          "base_uri": "https://localhost:8080/"
        },
        "outputId": "3fb273a0-0ac9-4451-90ec-39a7a39017b9"
      },
      "source": [
        "#@title\n",
        "# Verification des dimensions des donnees\n",
        "assert data.shape == (1000, 3)\n",
        "\n",
        "# Verification des division desd donnees\n",
        "assert train.shape == (800, 3)\n",
        "assert valid.shape == (100, 3)\n",
        "assert test.shape == (100, 3)\n",
        "\n",
        "for dataset in [train, valid, test]:\n",
        "    # Verification des classes\n",
        "    assert (dataset[dataset[:,-1]==1,0] > -0.4).all()\n",
        "    assert (dataset[dataset[:,-1]==1,1] > -0.3).all()\n",
        "    assert ((dataset[dataset[:,-1]==0,0] <= -0.4) | (dataset[dataset[:,-1]==0,1] <= -0.3)).all()\n",
        "\n",
        "print('Everything looks good!')"
      ],
      "execution_count": null,
      "outputs": [
        {
          "output_type": "stream",
          "name": "stdout",
          "text": [
            "Everything looks good!\n"
          ]
        }
      ]
    },
    {
      "cell_type": "markdown",
      "metadata": {
        "nbgrader": {
          "grade": false,
          "grade_id": "cell-5f5f853f3b928fef",
          "locked": true,
          "schema_version": 1,
          "solution": false
        },
        "id": "yG7aB7goQG5d"
      },
      "source": [
        "## 2. Creating the model\n",
        "In this part, we will create, with PyTorch, a model to predict the class $y$ of a point using only its coordinates $(x_0, x_1)$.\n",
        "\n",
        "The model we will create to classify the data is a Multilayer Perceptron with a single hidden layer with 2 units:\n",
        "\n",
        "\\begin{align}\n",
        "h_1 &= \\sigma(x W_1 + b_1) \\\\\n",
        "\\hat{y} &= \\sigma(h_1 W_2 + b_2) \\\\\n",
        "& \\textrm{ avec } & \\\\\n",
        "\\sigma(t) &= \\frac{1}{1+e^{-t}}\n",
        "\\end{align}\n",
        "\n",
        "$\\hat{y}$ will the model's estimation for the class of the point.\n"
      ]
    },
    {
      "cell_type": "markdown",
      "source": [
        "\n",
        "### Exercise 6\n",
        "What are the model parameters?\n"
      ],
      "metadata": {
        "id": "I-tG4sh-yflE"
      }
    },
    {
      "cell_type": "markdown",
      "metadata": {
        "nbgrader": {
          "grade": true,
          "grade_id": "modele_parametres",
          "locked": false,
          "points": 1,
          "schema_version": 1,
          "solution": true
        },
        "id": "KUG1bOhrQG5d"
      },
      "source": []
    },
    {
      "cell_type": "markdown",
      "metadata": {
        "nbgrader": {
          "grade": false,
          "grade_id": "cell-3632dbdc069854f5",
          "locked": true,
          "schema_version": 1,
          "solution": false
        },
        "id": "DWY9Z9waQG5d"
      },
      "source": [
        "*Implementation en PyTorch*\n",
        "\n",
        "First we will do a low level implementation where we will only use the auto-differentiation feature (which allows to automatically compute gradients) of PyTorch. Everything else will be using the low-level API which is similar to numpy's.\n",
        "\n",
        "One major difference between numpy and PyTorch's low-level API is the possibility to compute gradients of some variables. For doing so we will have to set the flag `requires_grad=True` for these variables. This can be done during the construction of the `array` (or rather `tensor` in PyTorch).\n",
        "\n",
        "For example $W_1$ is a parameter of the model and we are interested in the gradient of the loss with respect to this symbol. So at initialization time we will add the keyword argument `requires_grad=True`.\n"
      ]
    },
    {
      "cell_type": "markdown",
      "source": [
        "\n",
        "### Exercise 7\n",
        "\n",
        "What the dimensions of each of these symbols: $x, y, W_1, b_1, W_2, b_2$?\n"
      ],
      "metadata": {
        "id": "eP15YmPVyhYh"
      }
    },
    {
      "cell_type": "markdown",
      "metadata": {
        "id": "mvAmSj2O7yOo"
      },
      "source": []
    },
    {
      "cell_type": "markdown",
      "metadata": {
        "id": "1lcpx1tt7zK9"
      },
      "source": [
        "\n",
        "### Exercise 8\n",
        "Create a function that initializes and returns a tuple with the MLP  parameters.\n",
        "\n",
        "Initialize the weights $W$ with `torch.randn` and the bias $b$ with `torch.zero` explain why we do so.\n"
      ]
    },
    {
      "cell_type": "code",
      "metadata": {
        "nbgrader": {
          "grade": false,
          "grade_id": "modele_impl_tf",
          "locked": false,
          "schema_version": 1,
          "solution": true
        },
        "id": "iNpJCrkxQG5f"
      },
      "source": [
        "#@title\n",
        "# Create the model\n",
        "def init_mlp(n_input, n_hidden, n_output):\n",
        "### BEGIN SOLUTION\n",
        "\n",
        "\n",
        "\n",
        "\n",
        "\n",
        "\n",
        "### END SOLUTION\n",
        "\n",
        "params = init_mlp(2, 2, 1)"
      ],
      "execution_count": null,
      "outputs": []
    },
    {
      "cell_type": "markdown",
      "metadata": {
        "nbgrader": {
          "grade": false,
          "grade_id": "cell-63f85f4f1d768f5b",
          "locked": true,
          "schema_version": 1,
          "solution": false
        },
        "id": "4RqH3NrNQG5f"
      },
      "source": [
        "*Run a forward pass of the model on the following data points*\n",
        "\n",
        "### Exercise 8\n",
        "What is the desired response for the following points?\n",
        "$$(-0.9, 0.5), (-0.7, -0.5), (0.3, -0.15), (0.1, 0.15)$$\n",
        "\n"
      ]
    },
    {
      "cell_type": "markdown",
      "metadata": {
        "nbgrader": {
          "grade": true,
          "grade_id": "modele_exec",
          "locked": false,
          "points": 1,
          "schema_version": 1,
          "solution": true
        },
        "id": "uciFcwQJQG5g"
      },
      "source": []
    },
    {
      "cell_type": "markdown",
      "metadata": {
        "nbgrader": {
          "grade": false,
          "grade_id": "cell-3fb0b211715ad51e",
          "locked": true,
          "schema_version": 1,
          "solution": false
        },
        "id": "NJfm4zW8QG5g"
      },
      "source": [
        "### Exercise 9\n",
        "Execute the model on the previous points and print $\\hat{y}$. The matrix multiplication in PyTorch is done with `@`.\n"
      ]
    },
    {
      "cell_type": "code",
      "metadata": {
        "nbgrader": {
          "grade": false,
          "grade_id": "modele_exec_tf",
          "locked": false,
          "schema_version": 1,
          "solution": true
        },
        "id": "Bnn4vKY8QG5g",
        "colab": {
          "base_uri": "https://localhost:8080/"
        },
        "outputId": "9cd4a065-5585-4056-9551-928202b7d30c"
      },
      "source": [
        "#@title\n",
        "### BEGIN SOLUTION\n",
        "# Create a function sigmoid(t) that computes the sigmoid function on t\n",
        "\n",
        "\n",
        "\n",
        "# Create a function mlp(x, params) that computes the MLP outputs given the inputs x\n",
        "\n",
        "\n",
        "\n",
        "\n",
        "\n",
        "# Create a tensor containing the previous points\n",
        "\n",
        "\n",
        "\n",
        "\n",
        "\n",
        "# Call and print output of mlp(points, params) (NOTE: use torch.no_grad())\n",
        "\n",
        "\n",
        "\n",
        "\n",
        "### END SOLUTION"
      ],
      "execution_count": null,
      "outputs": [
        {
          "output_type": "stream",
          "name": "stdout",
          "text": [
            "tensor([[0.6439],\n",
            "        [0.6426],\n",
            "        [0.6674],\n",
            "        [0.6688]])\n"
          ]
        }
      ]
    },
    {
      "cell_type": "markdown",
      "metadata": {
        "nbgrader": {
          "grade": false,
          "grade_id": "cell-d2286825a4cd51d1",
          "locked": true,
          "schema_version": 1,
          "solution": false
        },
        "id": "8CxqH1VmQG5h"
      },
      "source": [
        "We can observe that the results are not good, because they are far from the expected result.\n",
        "\n",
        "If we want to compute on our test data the performance of the model we will define an accuracy function, which takes a decision for each data based on $\\hat{y}$ and compares it to $y$.\n",
        "\n",
        "$$\n",
        "\\text{accuracy} = \\frac{1}{N} \\sum_i^N (1 - abs(y - round(\\hat{y}_i)))\n",
        "$$\n",
        "\n",
        "The accuracy represents the rate of correctly classified points. It will be $1$ if all points are correctly classified, $0$ if all are misclassified and $0.5$ if half are well classified.\n"
      ]
    },
    {
      "cell_type": "markdown",
      "source": [
        "\n",
        "### Exercise 10\n",
        "\n",
        "Implement the accuracy using Pytorch functions `torch.mean`, `torch.abs`, `torch.round`.\n"
      ],
      "metadata": {
        "id": "PATwbhk9zTAC"
      }
    },
    {
      "cell_type": "code",
      "metadata": {
        "nbgrader": {
          "grade": false,
          "grade_id": "modele_score",
          "locked": false,
          "schema_version": 1,
          "solution": true
        },
        "id": "fpRGBsEuQG5h"
      },
      "source": [
        "#@title\n",
        "def accuracy(estimated, reference):\n",
        "    ### BEGIN SOLUTION\n",
        "\n",
        "    ### END SOLUTION"
      ],
      "execution_count": null,
      "outputs": []
    },
    {
      "cell_type": "markdown",
      "metadata": {
        "nbgrader": {
          "grade": false,
          "grade_id": "cell-27d9bf94853c6c3e",
          "locked": true,
          "schema_version": 1,
          "solution": false
        },
        "id": "QfC9Ux2DQG5i"
      },
      "source": [
        "### Exercise 11\n",
        "\n",
        "Write a `score_model` function that evaluates the performance (accuracy) of the model on a given data set. Print the result.\n",
        "\n",
        "When we don't need to compute gradients we may encapsulate the code in a `torch.no_grad()` context block."
      ]
    },
    {
      "cell_type": "code",
      "metadata": {
        "nbgrader": {
          "grade": false,
          "grade_id": "modele_score_train_run",
          "locked": false,
          "schema_version": 1,
          "solution": true
        },
        "id": "PnwzCrAqQG5i",
        "colab": {
          "base_uri": "https://localhost:8080/"
        },
        "outputId": "6ba8a32c-693d-49d1-9d2c-fc98bd639dcd"
      },
      "source": [
        "#@title\n",
        "def score_model(params, data):\n",
        "    ### BEGIN SOLUTION\n",
        "\n",
        "\n",
        "\n",
        "\n",
        "\n",
        "    ### END SOLUTION\n",
        "\n",
        "acc = score_model(params, train).item()\n",
        "print(f'score train: {acc:.2%}')"
      ],
      "execution_count": null,
      "outputs": [
        {
          "output_type": "stream",
          "name": "stdout",
          "text": [
            "score train: 46.00%\n"
          ]
        }
      ]
    },
    {
      "cell_type": "markdown",
      "metadata": {
        "nbgrader": {
          "grade": false,
          "grade_id": "cell-b0dd344408f9d817",
          "locked": true,
          "schema_version": 1,
          "solution": false
        },
        "id": "wTxD2bI-QG5i"
      },
      "source": [
        "### Exercise 12\n",
        "Do the same with `valid` and `test`\n"
      ]
    },
    {
      "cell_type": "code",
      "metadata": {
        "nbgrader": {
          "grade": false,
          "grade_id": "cell-modele_score_valid_test_run",
          "locked": false,
          "schema_version": 1,
          "solution": true
        },
        "id": "h3oaihg7QG5j",
        "colab": {
          "base_uri": "https://localhost:8080/"
        },
        "outputId": "e5d4d3d2-b153-46cf-dddb-f3fd006a4659"
      },
      "source": [
        "#@title\n",
        "print(f'score valid: {score_model(params, valid):.2%}')\n",
        "print(f'score test: {score_model(params, valid):.2%}')\n"
      ],
      "execution_count": null,
      "outputs": [
        {
          "output_type": "stream",
          "name": "stdout",
          "text": [
            "score valid: 43.00%\n",
            "score test: 43.00%\n"
          ]
        }
      ]
    },
    {
      "cell_type": "markdown",
      "metadata": {
        "nbgrader": {
          "grade": false,
          "grade_id": "cell-c3a2088c99a27299",
          "locked": true,
          "schema_version": 1,
          "solution": false
        },
        "id": "NSPPgOsRQG5j"
      },
      "source": [
        "### Exercise 13\n",
        "\n",
        "Explain the results."
      ]
    },
    {
      "cell_type": "markdown",
      "metadata": {
        "id": "_xJMAkImfK5k"
      },
      "source": []
    },
    {
      "cell_type": "markdown",
      "metadata": {
        "nbgrader": {
          "grade": false,
          "grade_id": "cell-359552e82cd7edd7",
          "locked": true,
          "schema_version": 1,
          "solution": false
        },
        "id": "WSpMrc0rQG5j"
      },
      "source": [
        "## 4. Training the model\n",
        "\n",
        "To find the best parameters for our model we will enter it with the training data. For this we will define a cost function to optimize.\n",
        "\n",
        "As we are trying to solve a binary classification task, we will use the crossentropy cost function:\n",
        "\n",
        "$$\n",
        "L = \\sum -y \\log(\\hat{y}) - (1-y) \\log(1-\\hat{y})\n",
        "$$\n"
      ]
    },
    {
      "cell_type": "markdown",
      "source": [
        "\n",
        "### Exercise 14\n",
        "Implement the cost function in PyTorch.\n"
      ],
      "metadata": {
        "id": "uuu-XfWWzZKE"
      }
    },
    {
      "cell_type": "code",
      "metadata": {
        "nbgrader": {
          "grade": false,
          "grade_id": "model_loss",
          "locked": false,
          "schema_version": 1,
          "solution": true
        },
        "id": "RgFjHanWQG5k"
      },
      "source": [
        "#@title\n",
        "def bce(est, ref):\n",
        "    ### BEGIN SOLUTION\n",
        "\n",
        "    ### END SOLUTION"
      ],
      "execution_count": null,
      "outputs": []
    },
    {
      "cell_type": "markdown",
      "metadata": {
        "nbgrader": {
          "grade": false,
          "grade_id": "cell-0607097453bf1922",
          "locked": true,
          "schema_version": 1,
          "solution": false
        },
        "id": "XoNA5imlQG5k"
      },
      "source": [
        "To train our model by means of Gradient Descent (GD) we will iteratively update with small increments our parameters:\n",
        "\n",
        "\\begin{align}\n",
        "W_1^n &= W_1^{n-1} - \\eta \\frac{\\delta L}{\\delta W_1} \\\\\n",
        "b_1^n &= b_1^{n-1} - \\eta \\frac{\\delta L}{\\delta b_1} \\\\\n",
        "W_2^n &= W_2^{n-1} - \\eta \\frac{\\delta L}{\\delta W_2} \\\\\n",
        "b_2^n &= b_2^{n-1} - \\eta \\frac{\\delta L}{\\delta b_2}\n",
        "\\end{align}\n",
        "\n",
        "Where $\\eta$ is our learning rate.\n",
        "\n",
        "We need to calculate the gradients:\n",
        "$$\n",
        "\\frac{\\delta L}{\\delta W_1}, \\frac{\\delta L}{\\delta b_1}, \\frac{\\delta L}{\\delta W_2}, \\frac{\\delta L}{\\delta b_2}\n",
        "$$\n",
        "\n",
        "For the gradients of the cost function with respect to the parameters, we could calculate them by hand. But we are lazy. So we will use PyTorch `error.backward()` will do this for us in an optimized way using Dynamic Programming (DP) and populate the tensors with the gradients."
      ]
    },
    {
      "cell_type": "markdown",
      "metadata": {
        "nbgrader": {
          "grade": false,
          "grade_id": "cell-3f5354be373904ff",
          "locked": true,
          "schema_version": 1,
          "solution": false
        },
        "id": "nKwH75ByQG5l"
      },
      "source": [
        "Finally we will run a training of 10 `epochs` with a `batch_size=100`.\n",
        "For this we will do the following steps:\n",
        "1. Calculate the number of iterations (`n_iterations`) per epoch (remember that an iteration is an update of the parameters and an epoch is a competing use of all our training data)\n",
        "2. For each epoch (`for epoch in range(n_epochs):`)\n",
        "    1. Randomly reorder the `train` data (use `torch.randperm()`)\n",
        "    2. Every 10 epochs evaluate and print the model score on the training data\n",
        "    3. For each iteration (`for iteration in range(n_iterations):`)\n",
        "        1. Select a block of `batch_size` examples\n",
        "        2. *Zero the gradients*\n",
        "        3. Run the forward pass on the model (`mlp()`)\n",
        "        4. Compute the loss (`bce()`)\n",
        "        5. Compute the gradients\n",
        "        6. *Update the parameters doing gradient descent*\n",
        "\n",
        "**Note:** Remember that PyTorch keeps track of all the operations you make with tensors to build the DAG graph. In some cases we want to avoid that, such as when setting the gradients to zero or performing the gradient descent update of the parameters. In those cases we may encapsulate the operations inside a `with torch.no_grad():` context clause. Furthermore the `grad` attribute of the tensors, may be `None` (no need to set to zero in this case) during the first run so one may do:\n",
        "\n",
        "```\n",
        "with torch.no_grad():\n",
        "    if param.grad is not None:\n",
        "        param.grad.zero_()\n",
        "\n",
        "```\n",
        "\n",
        "**Note:** When performing the parameter update of gradient descent, make sure not to reassign to the parameter a new tensor object. To avoid doing so use an inplace operation:\n",
        "\n",
        "```\n",
        "with torch.no_grad():\n",
        "    param -= eta * param.grad\n",
        "```\n",
        "\n",
        "If you erronously do this `param = param - eta * param.grad`, `param` will point to a new tensor, not the original parameters of the model.\n",
        "\n",
        "**Note:** Zero the gradients means accessing the gradient of each parameter and setting it to zero. We need this because PyTorch `.backward()` method accumulates the gradients instead of replacing them.\n",
        "    "
      ]
    },
    {
      "cell_type": "markdown",
      "source": [
        "\n",
        "### Exercise 15\n",
        "\n",
        "Implement and run a train loop for the model."
      ],
      "metadata": {
        "id": "51LU1uElzdXS"
      }
    },
    {
      "cell_type": "code",
      "metadata": {
        "nbgrader": {
          "grade": false,
          "grade_id": "modele_train",
          "locked": false,
          "schema_version": 1,
          "solution": true
        },
        "id": "BBdxxSawQG5m",
        "colab": {
          "base_uri": "https://localhost:8080/"
        },
        "outputId": "398af693-dd6d-46d1-efa5-2daf4362639f"
      },
      "source": [
        "#@title\n",
        "def train_model(params, data, eta=0.05, n_epochs=1, batch_size=16):\n",
        "    n_data = data.shape[0]\n",
        "    n_iterations = n_data // batch_size\n",
        "\n",
        "    ### BEGIN SOLUTION\n",
        "\n",
        "\n",
        "\n",
        "\n",
        "\n",
        "\n",
        "\n",
        "\n",
        "\n",
        "\n",
        "            # 1. Zero the gradients of each of the parameters because .bacward() accumulates them\n",
        "\n",
        "\n",
        "\n",
        "\n",
        "\n",
        "            # 2. Run the forward pass on the model\n",
        "\n",
        "\n",
        "            # 3. Compute the error\n",
        "\n",
        "\n",
        "            # 4. Compute the gradients\n",
        "\n",
        "\n",
        "            # 5. Update the parameters using their gradients\n",
        "\n",
        "\n",
        "\n",
        "\n",
        "### END SOLUTION\n",
        "\n",
        "params = init_mlp(2, 2, 1)\n",
        "train_model(params, train, eta=0.05, n_epochs=100)"
      ],
      "execution_count": null,
      "outputs": [
        {
          "output_type": "stream",
          "name": "stdout",
          "text": [
            "epoch: 0\n",
            "score: 46.00%\n",
            "epoch: 10\n",
            "score: 85.75%\n",
            "epoch: 20\n",
            "score: 85.50%\n",
            "epoch: 30\n",
            "score: 89.75%\n",
            "epoch: 40\n",
            "score: 96.50%\n",
            "epoch: 50\n",
            "score: 98.00%\n",
            "epoch: 60\n",
            "score: 98.37%\n",
            "epoch: 70\n",
            "score: 98.37%\n",
            "epoch: 80\n",
            "score: 98.75%\n",
            "epoch: 90\n",
            "score: 99.00%\n"
          ]
        }
      ]
    },
    {
      "cell_type": "markdown",
      "metadata": {
        "nbgrader": {
          "grade": false,
          "grade_id": "cell-5fb88a704fde52d4",
          "locked": true,
          "schema_version": 1,
          "solution": false
        },
        "id": "2dYT08APQG5m"
      },
      "source": [
        "## 5. Visualizing the model\n",
        "\n",
        "To monitor the evolution of the learning of our model, we will visualize the value of the cost function, the classification score and the parameters of the first layer of our model.  \n",
        "\n",
        "We will run our experiments with different values of the following hyperparameters to better understand their effect:\n",
        "- `learning_rate`\n",
        "- `batch_size`\n",
        "\n",
        "\n",
        "**Visualization of the cost function**\n",
        "\n",
        "The cost function is the value we aim to reduce with the training iterations. To visualize it we will create an empty list (`couts = []`) at the beginning of our training and we will add (`couts.append(cout)`) the value resulting from the cost at each iteration. At the end of the training we will visualize the curve (`plt.plot(costs)`).\n",
        "\n",
        "### Exercise 16\n",
        "Rewrite the `train_model` function so that it returns the average loss per sample of every epoch. Run it and plot the loss of a training procedure. While we are at it, make the printing optional with an additional keyword argument."
      ]
    },
    {
      "cell_type": "code",
      "metadata": {
        "nbgrader": {
          "grade": false,
          "grade_id": "cell-b21e107f85733283",
          "locked": false,
          "schema_version": 1,
          "solution": true
        },
        "id": "XqDafc3QQG5m",
        "colab": {
          "base_uri": "https://localhost:8080/"
        },
        "outputId": "f999e6ce-23a7-456e-db78-4b91801c1f11"
      },
      "source": [
        "#@title\n",
        "def train_model(params, data, eta=0.05, n_epochs=1, batch_size=16):\n",
        "    n_data = data.shape[0]\n",
        "    n_iterations = n_data // batch_size\n",
        "    losses = []\n",
        "\n",
        "    for epoch in range(n_epochs):\n",
        "        ### BEGIN SOLUTION\n",
        "        # Randomly reorder the `train` data (use `torch.randperm()`)\n",
        "\n",
        "\n",
        "        # Evaluate and print the model score on the training data\n",
        "\n",
        "\n",
        "\n",
        "\n",
        "        # Init variables to keep track of the average sample loss\n",
        "\n",
        "\n",
        "        ### END SOLUTION\n",
        "\n",
        "        for iteration in range(n_iterations):\n",
        "            ### BEGIN SOLUTION\n",
        "\n",
        "            # 1. Select a block of `batch_size` examples\n",
        "\n",
        "\n",
        "            # 2. Run the forward pass on the model\n",
        "\n",
        "\n",
        "            # 3. Compute the error\n",
        "\n",
        "\n",
        "            # Update variables to keep track of the average sample loss\n",
        "\n",
        "\n",
        "\n",
        "            # 4. Zero the gradients of each of the parameters because .bacward() accumulates them\n",
        "\n",
        "\n",
        "\n",
        "\n",
        "\n",
        "            # 5. Compute the gradients\n",
        "\n",
        "\n",
        "            # 6. Update the parameters using their gradients\n",
        "\n",
        "\n",
        "\n",
        "            ### END SOLUTION\n",
        "\n",
        "        ### BEGIN SOLUTION\n",
        "        # Collect average sample loss of the\n",
        "\n",
        "        ### END SOLUTION\n",
        "\n",
        "    return losses\n",
        "\n",
        "\n",
        "params = init_mlp(2, 2, 1)\n",
        "losses = train_model(params, train, eta=0.05, n_epochs=100)\n",
        "print(len(losses))\n",
        "print(losses[:5])"
      ],
      "execution_count": null,
      "outputs": [
        {
          "output_type": "stream",
          "name": "stdout",
          "text": [
            "epoch: 0\n",
            "score: 54.00%\n",
            "epoch: 10\n",
            "score: 88.25%\n",
            "epoch: 20\n",
            "score: 95.75%\n",
            "epoch: 30\n",
            "score: 97.62%\n",
            "epoch: 40\n",
            "score: 97.50%\n",
            "epoch: 50\n",
            "score: 98.75%\n",
            "epoch: 60\n",
            "score: 99.12%\n",
            "epoch: 70\n",
            "score: 98.62%\n",
            "epoch: 80\n",
            "score: 99.12%\n",
            "epoch: 90\n",
            "score: 98.75%\n",
            "100\n",
            "[0.552524482011795, 0.38980985194444656, 0.34245613366365435, 0.3349398483335972, 0.3325028036534786]\n"
          ]
        }
      ]
    },
    {
      "cell_type": "markdown",
      "metadata": {
        "nbgrader": {
          "grade": false,
          "grade_id": "cell-2c490b8a98bc8faf",
          "locked": true,
          "schema_version": 1,
          "solution": false
        },
        "id": "DBNHv7PZQG5n"
      },
      "source": [
        "**Effect of the learning rate**\n",
        "\n",
        "We will run our learning with different learning rates to see its effect on the cost function.\n"
      ]
    },
    {
      "cell_type": "markdown",
      "source": [
        "\n",
        "### Exercise 17\n",
        "Display the training loss curve for learning rates `[0.5, 0.05, 0.005, 0.0005]`"
      ],
      "metadata": {
        "id": "R4-uP7ngzlIh"
      }
    },
    {
      "cell_type": "code",
      "metadata": {
        "nbgrader": {
          "grade": false,
          "grade_id": "cell-2d9702ad660aca06",
          "locked": false,
          "schema_version": 1,
          "solution": true
        },
        "id": "NqJy3S7FQG5n",
        "colab": {
          "base_uri": "https://localhost:8080/",
          "height": 1000
        },
        "outputId": "6e735483-faee-4686-908f-5c4623b9ccb9"
      },
      "source": [
        "#@title\n",
        "learning_rates = [0.5, 0.05, 0.005, 0.0005, 0.00005]\n",
        "n_epochs = 100\n",
        "batch_size = 16\n",
        "\n",
        "losses = {}\n",
        "\n",
        "# Train a model with each learning rate and populate losses with the learning rate as key and the loss series as values\n",
        "### BEGIN SOLUTION\n",
        "\n",
        "\n",
        "\n",
        "### END SOLUTION\n",
        "\n",
        "plt.figure()\n",
        "for lr, loss_curve in sorted(losses.items()):\n",
        "    plt.plot(loss_curve, label=f'leraning_rate={lr:.5f}')\n",
        "\n",
        "plt.legend(loc='center left', bbox_to_anchor=(1, 0.5))\n",
        "plt.ylabel('Loss function')\n",
        "plt.xlabel('Epoch');"
      ],
      "execution_count": null,
      "outputs": [
        {
          "output_type": "stream",
          "name": "stdout",
          "text": [
            "epoch: 0\n",
            "score: 46.00%\n",
            "epoch: 10\n",
            "score: 46.00%\n",
            "epoch: 20\n",
            "score: 46.00%\n",
            "epoch: 30\n",
            "score: 46.00%\n",
            "epoch: 40\n",
            "score: 46.00%\n",
            "epoch: 50\n",
            "score: 46.00%\n",
            "epoch: 60\n",
            "score: 46.00%\n",
            "epoch: 70\n",
            "score: 46.00%\n",
            "epoch: 80\n",
            "score: 46.88%\n",
            "epoch: 90\n",
            "score: 45.00%\n",
            "epoch: 0\n",
            "score: 54.00%\n",
            "epoch: 10\n",
            "score: 53.50%\n",
            "epoch: 20\n",
            "score: 60.62%\n",
            "epoch: 30\n",
            "score: 63.25%\n",
            "epoch: 40\n",
            "score: 65.62%\n",
            "epoch: 50\n",
            "score: 68.12%\n",
            "epoch: 60\n",
            "score: 69.38%\n",
            "epoch: 70\n",
            "score: 71.88%\n",
            "epoch: 80\n",
            "score: 73.37%\n",
            "epoch: 90\n",
            "score: 74.50%\n",
            "epoch: 0\n",
            "score: 54.00%\n",
            "epoch: 10\n",
            "score: 84.38%\n",
            "epoch: 20\n",
            "score: 85.75%\n",
            "epoch: 30\n",
            "score: 85.75%\n",
            "epoch: 40\n",
            "score: 85.50%\n",
            "epoch: 50\n",
            "score: 85.75%\n",
            "epoch: 60\n",
            "score: 85.87%\n",
            "epoch: 70\n",
            "score: 86.12%\n",
            "epoch: 80\n",
            "score: 86.62%\n",
            "epoch: 90\n",
            "score: 87.37%\n",
            "epoch: 0\n",
            "score: 46.00%\n",
            "epoch: 10\n",
            "score: 86.12%\n",
            "epoch: 20\n",
            "score: 89.00%\n",
            "epoch: 30\n",
            "score: 94.88%\n",
            "epoch: 40\n",
            "score: 97.75%\n",
            "epoch: 50\n",
            "score: 98.37%\n",
            "epoch: 60\n",
            "score: 98.50%\n",
            "epoch: 70\n",
            "score: 98.75%\n",
            "epoch: 80\n",
            "score: 98.62%\n",
            "epoch: 90\n",
            "score: 98.50%\n",
            "epoch: 0\n",
            "score: 46.00%\n",
            "epoch: 10\n",
            "score: 95.63%\n",
            "epoch: 20\n",
            "score: 97.00%\n",
            "epoch: 30\n",
            "score: 97.00%\n",
            "epoch: 40\n",
            "score: 98.25%\n",
            "epoch: 50\n",
            "score: 96.63%\n",
            "epoch: 60\n",
            "score: 98.12%\n",
            "epoch: 70\n",
            "score: 98.12%\n",
            "epoch: 80\n",
            "score: 97.00%\n",
            "epoch: 90\n",
            "score: 99.12%\n"
          ]
        },
        {
          "output_type": "display_data",
          "data": {
            "text/plain": [
              "<Figure size 432x288 with 1 Axes>"
            ],
            "image/png": "[encoded data removed]"
          },
          "metadata": {
            "needs_background": "light"
          }
        }
      ]
    },
    {
      "cell_type": "markdown",
      "metadata": {
        "nbgrader": {
          "grade": false,
          "grade_id": "cell-a4f817a1f6a01d10",
          "locked": true,
          "schema_version": 1,
          "solution": false
        },
        "id": "TqkH-hc6QG5n"
      },
      "source": [
        "**Effect of batch size**\n",
        "\n",
        "We will now run our training with different batch sizes to see its effect on the cost function.\n",
        "\n",
        "### Exercise 18\n",
        "\n",
        "Display the cost function evaluated on all training data at each epoch for batch sizes `[n_data, 100, 50, 10, 5, 1]`\n"
      ]
    },
    {
      "cell_type": "code",
      "metadata": {
        "nbgrader": {
          "grade": false,
          "grade_id": "cell-3055fc4fe2919e78",
          "locked": false,
          "schema_version": 1,
          "solution": true
        },
        "id": "ylk8AbYHQG5n",
        "colab": {
          "base_uri": "https://localhost:8080/",
          "height": 279
        },
        "outputId": "f431cd3b-35d5-499f-ce45-137438c4969b"
      },
      "source": [
        "#@title\n",
        "n_data = train.shape[0]\n",
        "\n",
        "n_epochs = 100\n",
        "batch_sizes = [n_data, 100, 10, 1]\n",
        "lrs = [0.005, 0.05, 0.05, 0.05]\n",
        "\n",
        "losses = {}\n",
        "\n",
        "### BEGIN SOLUTION\n",
        "\n",
        "\n",
        "\n",
        "### END SOLUTION\n",
        "\n",
        "# Visualiser les courbes de cout\n",
        "plt.figure()\n",
        "for (bs, lr), loss_curve in sorted(losses.items()):\n",
        "    plt.plot(loss_curve, label=f'batch_size={bs} lr={lr}')\n",
        "\n",
        "plt.legend(loc='center left', bbox_to_anchor=(1, 0.5))\n",
        "plt.ylabel('Loss function')\n",
        "plt.xlabel('Epoch');"
      ],
      "execution_count": null,
      "outputs": [
        {
          "output_type": "display_data",
          "data": {
            "image/png": "[encoded data removed]",
            "text/plain": [
              "<Figure size 432x288 with 1 Axes>"
            ]
          },
          "metadata": {
            "needs_background": "light"
          }
        }
      ]
    },
    {
      "cell_type": "markdown",
      "metadata": {
        "nbgrader": {
          "grade": false,
          "grade_id": "cell-887f733a6a33175d",
          "locked": true,
          "schema_version": 1,
          "solution": false
        },
        "id": "6F28JnevQG5o"
      },
      "source": [
        "**Visualization of the performance**\n",
        "\n",
        "Another value worth monitoring is the classification accuracy of the model.\n"
      ]
    },
    {
      "cell_type": "markdown",
      "source": [
        "\n",
        "### Exercise 19\n",
        "\n",
        "Visualize the accuracy on the train, valid and test data on each epoch"
      ],
      "metadata": {
        "id": "tk3kRqmAzzI2"
      }
    },
    {
      "cell_type": "code",
      "metadata": {
        "nbgrader": {
          "grade": false,
          "grade_id": "cell-b8b636c476b5c52c",
          "locked": false,
          "schema_version": 1,
          "solution": true
        },
        "id": "NcOE_MaAQG5o",
        "colab": {
          "base_uri": "https://localhost:8080/",
          "height": 279
        },
        "outputId": "d9b85f1e-1607-4607-e678-d3e265ffca98"
      },
      "source": [
        "#@title\n",
        "n_data = train.shape[0]\n",
        "\n",
        "n_epochs = 200\n",
        "batch_size = 10\n",
        "learning_rate_value = 0.05\n",
        "\n",
        "accuracies = {}\n",
        "\n",
        "accuracies['train'] = []\n",
        "accuracies['valid'] = []\n",
        "accuracies['test'] = []\n",
        "\n",
        "### BEGIN SOLUTION\n",
        "\n",
        "\n",
        "\n",
        "\n",
        "\n",
        "\n",
        "\n",
        "### END SOLUTION\n",
        "\n",
        "plt.figure()\n",
        "for split, v in accuracies.items():\n",
        "    plt.plot(v, label=split)\n",
        "\n",
        "plt.legend(loc='best')\n",
        "plt.ylabel('Accuracy')\n",
        "plt.xlabel('Epoch');"
      ],
      "execution_count": null,
      "outputs": [
        {
          "output_type": "display_data",
          "data": {
            "image/png": "[encoded data removed]",
            "text/plain": [
              "<Figure size 432x288 with 1 Axes>"
            ]
          },
          "metadata": {
            "needs_background": "light"
          }
        }
      ]
    },
    {
      "cell_type": "markdown",
      "metadata": {
        "nbgrader": {
          "grade": false,
          "grade_id": "cell-8b604b650c9292e1",
          "locked": true,
          "schema_version": 1,
          "solution": false
        },
        "id": "MG8Q7Rg-QG5o"
      },
      "source": [
        "**Visualization of the model parameters**\n",
        "\n",
        "For pedagogical reasons we will now visualize the parameters of the model with its geometrical interpretation.\n",
        "We will represent the parameters of the first layer of the MLP as a line (the decision boundary)."
      ]
    },
    {
      "cell_type": "code",
      "metadata": {
        "nbgrader": {
          "grade": false,
          "grade_id": "cell-395c71c0f057170f",
          "locked": true,
          "schema_version": 1,
          "solution": false
        },
        "id": "wR4So4BPQG5o"
      },
      "source": [
        "#@title\n",
        "def plot_decision_boundaries(w, b, ax=None, **kwargs):\n",
        "    ax = ax or plt.gca()\n",
        "    x0, x1 = ax.get_xlim()\n",
        "    y0, y1 = ax.get_ylim()\n",
        "\n",
        "    arts = []\n",
        "    for i in range(w.shape[1]):\n",
        "        w_i = w[:, i]\n",
        "        if len(b.shape)==1:\n",
        "            b_i = b[i]\n",
        "        else:\n",
        "            b_i = b[:, i]\n",
        "\n",
        "        intersections = []\n",
        "\n",
        "        if w_i[1] != 0:\n",
        "            yx0 = -w_i[0]/w_i[1] * x0 - b_i/w_i[1]\n",
        "            yx1 = -w_i[0]/w_i[1] * x1 - b_i/w_i[1]\n",
        "\n",
        "            if y0 <= yx0 <= y1:\n",
        "                intersections.append((x0, yx0))\n",
        "\n",
        "            if y0 <= yx1 <= y1:\n",
        "                intersections.append((x1, yx1))\n",
        "\n",
        "        if w_i[0] != 0:\n",
        "            xy0 = -w_i[1]/w_i[0] * y0 - b_i/w_i[0]\n",
        "            xy1 = -w_i[1]/w_i[0] * y1 - b_i/w_i[0]\n",
        "\n",
        "            if x0 <= xy0 <= x1:\n",
        "                intersections.append((xy0, y0))\n",
        "\n",
        "            if x0 <= xy1 <= x1:\n",
        "                intersections.append((xy1, y1))\n",
        "\n",
        "        if len(intersections) == 2:\n",
        "            xs, ys = zip(*intersections)\n",
        "            lines, = ax.plot(xs, ys, **kwargs)\n",
        "\n",
        "            arts.append(lines)\n",
        "\n",
        "    ax.set_xlim([x0, x1])\n",
        "    ax.set_ylim([y0, y1])\n",
        "\n",
        "    return arts\n",
        "\n",
        "def plot_model_and_data(params, dat=None, sel=None, ax=None):\n",
        "    w, b, _, _ = params\n",
        "    ax = ax or plt.gca()\n",
        "    ax.set_prop_cycle(None)\n",
        "    prop_cycle = ax._get_patches_for_fill.prop_cycler\n",
        "\n",
        "    import itertools\n",
        "    props = list(itertools.islice(prop_cycle, 3))\n",
        "\n",
        "    all_arts = []\n",
        "\n",
        "    if dat is not None:\n",
        "        arts = ax.scatter(dat[dat[:,-1]==1,0], dat[dat[:,-1]==1,1],\n",
        "                            facecolors='none', edgecolors=props[0]['color'], alpha=0.2)\n",
        "        all_arts.append(arts)\n",
        "\n",
        "        arts = ax.scatter(dat[dat[:,-1]==0,0], dat[dat[:,-1]==0,1],\n",
        "                            facecolors='none', edgecolors=props[1]['color'], alpha=0.2)\n",
        "        all_arts.append(arts)\n",
        "\n",
        "    if sel is not None:\n",
        "        arts = ax.scatter(sel[sel[:,-1]==1,0], sel[sel[:,-1]==1,1],\n",
        "                            facecolors=props[0]['color'], edgecolors=props[0]['color'])\n",
        "        all_arts.append(arts)\n",
        "\n",
        "        arts = ax.scatter(sel[sel[:,-1]==0,0], sel[sel[:,-1]==0,1],\n",
        "                            facecolors=props[1]['color'], edgecolors=props[1]['color'])\n",
        "        all_arts.append(arts)\n",
        "\n",
        "    line_arts = plot_decision_boundaries(w.detach().numpy(), b.detach().numpy(),\n",
        "                             ax=ax,\n",
        "                             color=props[2]['color'],\n",
        "                             linewidth=2.0)\n",
        "    all_arts += line_arts\n",
        "\n",
        "    return all_arts"
      ],
      "execution_count": null,
      "outputs": []
    },
    {
      "cell_type": "markdown",
      "metadata": {
        "id": "UwWIuxBxQG5p"
      },
      "source": [
        "You can use the two functions created above to visualize a learning animation. You simply get the value returned by the function `plot_model_and_data(params, sel=train, ax=ax)` after each epoch.\n",
        "\n",
        "```\n",
        "art = plot_model_and_data(params, sel=train, ax=ax)\n",
        "arts.append(art)\n",
        "```\n"
      ]
    },
    {
      "cell_type": "markdown",
      "source": [
        "\n",
        "### Exercise 20\n",
        "Visualise the decision boundaries during a training procedure."
      ],
      "metadata": {
        "id": "ozypxHeMz33d"
      }
    },
    {
      "cell_type": "code",
      "metadata": {
        "nbgrader": {
          "grade": false,
          "grade_id": "cell-3fcae515179d7b83",
          "locked": false,
          "schema_version": 1,
          "solution": true
        },
        "id": "CSxwMKCMQG5p"
      },
      "source": [
        "#@title\n",
        "n_data = train.shape[0]\n",
        "\n",
        "n_epochs = 250\n",
        "batch_size = 10\n",
        "learning_rate_value = 0.005\n",
        "\n",
        "arts = []\n",
        "fig, ax = plt.subplots()\n",
        "\n",
        "### BEGIN SOLUTION\n",
        "\n",
        "\n",
        "\n",
        "\n",
        "\n",
        "### END SOLUTION\n",
        "\n",
        "anim = animation.ArtistAnimation(fig, arts, interval=50, repeat_delay=3000, blit=True);\n",
        "HTML(anim.to_jshtml())"
      ],
      "execution_count": null,
      "outputs": []
    },
    {
      "cell_type": "markdown",
      "source": [
        "## Further exploration"
      ],
      "metadata": {
        "id": "okZJtV0y0XnE"
      }
    },
    {
      "cell_type": "markdown",
      "source": [
        "### [Advanced] Exercise 21\n",
        "\n",
        "Create a new dataset as the one depicted below.\n",
        "\n",
        "It is similar to the first one we created, but for which we require more hidden units to classify correctly.\n",
        "\n",
        "Visualize the model being trained with an incrementing number of hidden units until reaching the theoretical minimum required amount."
      ],
      "metadata": {
        "id": "U43-gMwRnrGg"
      }
    },
    {
      "cell_type": "code",
      "source": [
        "#@title\n"
      ],
      "metadata": {
        "colab": {
          "base_uri": "https://localhost:8080/",
          "height": 283
        },
        "id": "7vBBOIJ4olRy",
        "outputId": "1a2d79dd-fb28-4dd7-8995-19c558c093f1"
      },
      "execution_count": null,
      "outputs": [
        {
          "output_type": "execute_result",
          "data": {
            "text/plain": [
              "<matplotlib.collections.PathCollection at 0x7fc13512fad0>"
            ]
          },
          "metadata": {},
          "execution_count": 4
        },
        {
          "output_type": "display_data",
          "data": {
            "text/plain": [
              "<Figure size 432x288 with 1 Axes>"
            ],
            "image/png": "[encoded data removed]"
          },
          "metadata": {
            "needs_background": "light"
          }
        }
      ]
    },
    {
      "cell_type": "markdown",
      "metadata": {
        "id": "AZiG4CWAp91a"
      },
      "source": [
        "### [Advanced] Exercise 22\n",
        "\n",
        "Implement another (or all) alternative optimizers that we have seen in the lecture. Plot the loss curves of them on a same plot together with vanilla SGD."
      ]
    },
    {
      "cell_type": "code",
      "source": [
        "#@title\n"
      ],
      "metadata": {
        "id": "kO0HER_eoqPz"
      },
      "execution_count": null,
      "outputs": []
    }
  ]
}